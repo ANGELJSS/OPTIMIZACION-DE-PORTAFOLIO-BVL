{
  "nbformat": 4,
  "nbformat_minor": 0,
  "metadata": {
    "colab": {
      "name": "Optimización_de_portafolio_BVL.ipynb",
      "provenance": [],
      "authorship_tag": "ABX9TyOp7xAGSPmoiE6ozWR/v1LQ",
      "include_colab_link": true
    },
    "kernelspec": {
      "name": "python3",
      "display_name": "Python 3"
    }
  },
  "cells": [
    {
      "cell_type": "markdown",
      "metadata": {
        "id": "view-in-github",
        "colab_type": "text"
      },
      "source": [
        "<a href=\"https://colab.research.google.com/github/ANGELJSS/OPTIMIZACION-DE-PORTAFOLIO-BVL/blob/main/Optimizaci%C3%B3n_de_portafolio_BVL.ipynb\" target=\"_parent\"><img src=\"https://colab.research.google.com/assets/colab-badge.svg\" alt=\"Open In Colab\"/></a>"
      ]
    },
    {
      "cell_type": "code",
      "metadata": {
        "id": "gC42bAfwcKqL"
      },
      "source": [
        ""
      ],
      "execution_count": null,
      "outputs": []
    },
    {
      "cell_type": "markdown",
      "metadata": {
        "id": "y6UMb9cCcYpo"
      },
      "source": [
        "# **OPTIMIZACIÓN DE PORTAFOLIO DE LA BVL**"
      ]
    },
    {
      "cell_type": "code",
      "metadata": {
        "id": "43vz4EBxceU9"
      },
      "source": [
        ""
      ],
      "execution_count": null,
      "outputs": []
    }
  ]
}